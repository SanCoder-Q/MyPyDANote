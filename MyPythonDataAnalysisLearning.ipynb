{
  "nbformat": 4,
  "nbformat_minor": 0,
  "metadata": {
    "colab": {
      "name": "MyPythonDataAnalysisLearning.ipynb",
      "provenance": [],
      "authorship_tag": "ABX9TyNLPQ2SpKS7PqC+CUN32/Xy",
      "include_colab_link": true
    },
    "kernelspec": {
      "name": "python3",
      "display_name": "Python 3"
    }
  },
  "cells": [
    {
      "cell_type": "markdown",
      "metadata": {
        "id": "view-in-github",
        "colab_type": "text"
      },
      "source": [
        "<a href=\"https://colab.research.google.com/github/SanCoder-Q/MyPyDANote/blob/master/MyPythonDataAnalysisLearning.ipynb\" target=\"_parent\"><img src=\"https://colab.research.google.com/assets/colab-badge.svg\" alt=\"Open In Colab\"/></a>"
      ]
    },
    {
      "cell_type": "markdown",
      "metadata": {
        "id": "uyzfNLYVPBIW"
      },
      "source": [
        "#1 《利用 Python 进行数据分析》学习笔记\n",
        "\n",
        "> 为什么要看这本书?\n",
        "\n",
        "> Data Analysis is an area on which I don't really have structured knowledges. It becomes more and more important to software delivery not only because many of the projects are based on it but also it could be a way to improve the technolegies/practices. \n",
        "\n",
        "> My another purpose of learning it is find a practicing way to learn Python and understand its real power.\n",
        "\n",
        "---\n",
        "\n",
        "# 第一章 准备工作\n",
        "\n",
        "**行话**\n",
        "\n",
        "* Munge / Munging / Wrangling 数据规整\n",
        "\n",
        "---\n",
        "\n",
        "# 第二章 引言\n",
        "\n"
      ]
    }
  ]
}